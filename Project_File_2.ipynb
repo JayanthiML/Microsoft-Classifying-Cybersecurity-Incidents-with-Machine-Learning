{
  "nbformat": 4,
  "nbformat_minor": 0,
  "metadata": {
    "colab": {
      "provenance": [],
      "gpuType": "A100"
    },
    "kernelspec": {
      "name": "python3",
      "display_name": "Python 3"
    },
    "language_info": {
      "name": "python"
    },
    "accelerator": "GPU"
  },
  "cells": [
    {
      "cell_type": "code",
      "execution_count": null,
      "metadata": {
        "colab": {
          "base_uri": "https://localhost:8080/"
        },
        "id": "JedL252zUhd6",
        "outputId": "2dc70192-ec6e-4050-fb70-b1cafcf2d9d9"
      },
      "outputs": [
        {
          "output_type": "stream",
          "name": "stdout",
          "text": [
            "Mounted at /content/drive\n"
          ]
        }
      ],
      "source": [
        "from google.colab import drive\n",
        "drive.mount('/content/drive')"
      ]
    },
    {
      "cell_type": "code",
      "source": [
        "import pandas as pd\n",
        "df = pd.read_csv('/content/drive/MyDrive/prepped_dataset.csv')"
      ],
      "metadata": {
        "id": "tVVWaBYxUq2w"
      },
      "execution_count": null,
      "outputs": []
    },
    {
      "cell_type": "code",
      "source": [
        "from sklearn.model_selection import train_test_split\n",
        "\n",
        "X = df.drop('IncidentGrade', axis=1)\n",
        "y = df['IncidentGrade']\n",
        "\n",
        "X_train, X_val, y_train, y_val = train_test_split(\n",
        "    X, y,\n",
        "    test_size=0.3,\n",
        "    random_state=42,\n",
        "    stratify=y\n",
        ")"
      ],
      "metadata": {
        "id": "ZbMNoSRCUzUX"
      },
      "execution_count": null,
      "outputs": []
    },
    {
      "cell_type": "markdown",
      "source": [
        "Hyperparameter Tuning and CV"
      ],
      "metadata": {
        "id": "6bM0Ix6rmKl9"
      }
    },
    {
      "cell_type": "code",
      "source": [
        "from xgboost import XGBClassifier\n",
        "from sklearn.model_selection import RandomizedSearchCV\n",
        "from sklearn.metrics import classification_report, confusion_matrix, precision_score, recall_score, f1_score\n",
        "import numpy as np\n",
        "import pandas as pd\n",
        "\n",
        "# Define base model\n",
        "xgb = XGBClassifier(\n",
        "    objective='multi:softmax',   # or 'multi:softprob' if you need probabilities\n",
        "    num_class=len(y_train.unique()),\n",
        "    tree_method='hist',          # efficient for large datasets\n",
        "    use_label_encoder=False,\n",
        "    eval_metric='mlogloss',\n",
        "    random_state=42\n",
        ")\n",
        "\n",
        "# Parameter grid (light for speed)\n",
        "param_dist = {\n",
        "    'n_estimators': [100, 300, 500],\n",
        "    'max_depth': [3, 5, 7],\n",
        "    'learning_rate': [0.01, 0.05, 0.1, 0.2],\n",
        "    'subsample': [0.6, 0.8, 1.0],\n",
        "    'colsample_bytree': [0.6, 0.8, 1.0],\n",
        "    'min_child_weight': [1, 3, 5]\n",
        "}\n",
        "\n",
        "# Randomized search\n",
        "random_search = RandomizedSearchCV(\n",
        "    estimator=xgb,\n",
        "    param_distributions=param_dist,\n",
        "    n_iter=15,                   # fewer iterations for speed\n",
        "    scoring='f1_weighted',\n",
        "    cv=3,\n",
        "    verbose=1,\n",
        "    n_jobs=-1,\n",
        "    random_state=42\n",
        ")\n",
        "\n",
        "# Fit\n",
        "random_search.fit(X_train, y_train)\n",
        "\n",
        "# Best parameters & score\n",
        "print(\"Best Parameters:\", random_search.best_params_)\n",
        "print(\"Best CV Score:\", random_search.best_score_)\n",
        "\n",
        "# Predictions on validation set\n",
        "y_pred = random_search.best_estimator_.predict(X_val)\n",
        "\n",
        "# Confusion Matrix\n",
        "cm = confusion_matrix(y_val, y_pred)\n",
        "print(\"\\nConfusion Matrix:\\n\", cm)\n",
        "\n",
        "# Classification Report (per-class precision, recall, f1 + macro/weighted avg)\n",
        "print(\"\\nClassification Report:\\n\", classification_report(y_val, y_pred))\n",
        "\n",
        "# Explicit Macro Scores\n",
        "precision_macro = precision_score(y_val, y_pred, average='macro')\n",
        "recall_macro = recall_score(y_val, y_pred, average='macro')\n",
        "f1_macro = f1_score(y_val, y_pred, average='macro')\n",
        "\n",
        "print(f\"\\nPrecision (Macro): {precision_macro:.4f}\")\n",
        "print(f\"Recall (Macro):    {recall_macro:.4f}\")\n",
        "print(f\"F1 Score (Macro):  {f1_macro:.4f}\")\n",
        "\n",
        "import joblib\n",
        "\n",
        "# Save the best model\n",
        "best_model = random_search.best_estimator_\n",
        "joblib.dump(best_model, \"xgb_best_model.pkl\")\n",
        "print(\"✅ Model saved as xgb_best_model.pkl\")"
      ],
      "metadata": {
        "colab": {
          "base_uri": "https://localhost:8080/"
        },
        "id": "JPslzXjcsJBU",
        "outputId": "7c343a6b-932b-4c91-866e-3f00c84ed462"
      },
      "execution_count": null,
      "outputs": [
        {
          "output_type": "stream",
          "name": "stdout",
          "text": [
            "Fitting 3 folds for each of 15 candidates, totalling 45 fits\n"
          ]
        },
        {
          "output_type": "stream",
          "name": "stderr",
          "text": [
            "/usr/local/lib/python3.12/dist-packages/xgboost/training.py:183: UserWarning: [23:05:41] WARNING: /workspace/src/learner.cc:738: \n",
            "Parameters: { \"use_label_encoder\" } are not used.\n",
            "\n",
            "  bst.update(dtrain, iteration=i, fobj=obj)\n"
          ]
        },
        {
          "output_type": "stream",
          "name": "stdout",
          "text": [
            "Best Parameters: {'subsample': 0.8, 'n_estimators': 300, 'min_child_weight': 5, 'max_depth': 7, 'learning_rate': 0.2, 'colsample_bytree': 1.0}\n",
            "Best CV Score: 0.9464508638598685\n",
            "\n",
            "Confusion Matrix:\n",
            " [[1194340   18230   20676]\n",
            " [  36948  555320   17322]\n",
            " [  42740   13554  940520]]\n",
            "\n",
            "Classification Report:\n",
            "               precision    recall  f1-score   support\n",
            "\n",
            "           0       0.94      0.97      0.95   1233246\n",
            "           1       0.95      0.91      0.93    609590\n",
            "           2       0.96      0.94      0.95    996814\n",
            "\n",
            "    accuracy                           0.95   2839650\n",
            "   macro avg       0.95      0.94      0.94   2839650\n",
            "weighted avg       0.95      0.95      0.95   2839650\n",
            "\n",
            "\n",
            "Precision (Macro): 0.9482\n",
            "Recall (Macro):    0.9410\n",
            "F1 Score (Macro):  0.9444\n",
            "✅ Model saved as xgb_best_model.pkl\n"
          ]
        }
      ]
    },
    {
      "cell_type": "markdown",
      "source": [
        "Evaluation on test dataset with best parameters"
      ],
      "metadata": {
        "id": "X3klfLgnmPsa"
      }
    },
    {
      "cell_type": "code",
      "source": [
        "import pandas as pd\n",
        "test_df = pd.read_csv('/content/drive/MyDrive/prepped_test_set.csv')\n",
        "\n",
        "import joblib\n",
        "import json\n",
        "from sklearn.metrics import f1_score, precision_score, recall_score, confusion_matrix, classification_report\n",
        "\n",
        "XGB_model = joblib.load(\"xgb_best_model.pkl\")\n",
        "label_encoding = joblib.load(\"incidentgrade_label_encoder.pkl\")\n",
        "train_features = joblib.load(\"train_features.pkl\")\n",
        "\n",
        "\n",
        "# Split into X and y\n",
        "X_test = test_df.drop('IncidentGrade', axis=1)\n",
        "y_test = test_df['IncidentGrade']\n",
        "\n",
        "# Add missing columns in test set (with 0 or appropriate default)\n",
        "for col in train_features:\n",
        "    if col not in X_test.columns:\n",
        "        X_test[col] = 0   # or np.nan, depending on context\n",
        "\n",
        "# Drop any extra columns in test set not used in training\n",
        "X_test = X_test[train_features]\n",
        "\n",
        "# Predict\n",
        "y_pred = XGB_model.predict(X_test)\n",
        "\n",
        "# Confusion Matrix\n",
        "print(\"XGBoost - Test Confusion Matrix:\\n\", confusion_matrix(y_test, y_pred))\n",
        "\n",
        "# Classification Report\n",
        "print(\"\\nXGBoost - Test Classification Report:\\n\", classification_report(y_test, y_pred, target_names=label_encoding.classes_))\n",
        "\n",
        "# Macro F1\n",
        "macro_f1 = f1_score(y_test, y_pred, average='macro')\n",
        "\n",
        "# Weighted Precision & Recall\n",
        "precision = precision_score(y_test, y_pred, average='weighted')\n",
        "recall = recall_score(y_test, y_pred, average='weighted')\n",
        "\n",
        "print(f\"\\nXGBoost Final Test Evaluation:\")\n",
        "print(f\"Macro F1 Score: {macro_f1:.4f}\")\n",
        "print(f\"Precision: {precision:.4f}\")\n",
        "print(f\"Recall: {recall:.4f}\")"
      ],
      "metadata": {
        "colab": {
          "base_uri": "https://localhost:8080/"
        },
        "id": "55y8X5b-Ye7t",
        "outputId": "66765af7-00ac-4ef5-9976-db586395da09"
      },
      "execution_count": null,
      "outputs": [
        {
          "output_type": "stream",
          "name": "stderr",
          "text": [
            "/usr/local/lib/python3.12/dist-packages/sklearn/base.py:380: InconsistentVersionWarning: Trying to unpickle estimator LabelEncoder from version 1.7.0 when using version 1.6.1. This might lead to breaking code or invalid results. Use at your own risk. For more info please refer to:\n",
            "https://scikit-learn.org/stable/model_persistence.html#security-maintainability-limitations\n",
            "  warnings.warn(\n"
          ]
        },
        {
          "output_type": "stream",
          "name": "stdout",
          "text": [
            "XGBoost - Test Confusion Matrix:\n",
            " [[1636477   67551   48912]\n",
            " [  92617  752385   57696]\n",
            " [  81876   36770 1373708]]\n",
            "\n",
            "XGBoost - Test Classification Report:\n",
            "                 precision    recall  f1-score   support\n",
            "\n",
            "BenignPositive       0.90      0.93      0.92   1752940\n",
            " FalsePositive       0.88      0.83      0.86    902698\n",
            "  TruePositive       0.93      0.92      0.92   1492354\n",
            "\n",
            "      accuracy                           0.91   4147992\n",
            "     macro avg       0.90      0.90      0.90   4147992\n",
            "  weighted avg       0.91      0.91      0.91   4147992\n",
            "\n",
            "\n",
            "XGBoost Final Test Evaluation:\n",
            "Macro F1 Score: 0.8993\n",
            "Precision: 0.9069\n",
            "Recall: 0.9071\n"
          ]
        }
      ]
    },
    {
      "cell_type": "markdown",
      "source": [
        "Feature Importance"
      ],
      "metadata": {
        "id": "OmQVsT26ZPyG"
      }
    },
    {
      "cell_type": "code",
      "source": [
        "import matplotlib.pyplot as plt\n",
        "import pandas as pd\n",
        "import joblib\n",
        "\n",
        "xgb_model = joblib.load(\"/content/xgb_best_model.pkl\")\n",
        "\n",
        "\n",
        "# Get feature importances (Gain-based is default in sklearn API)\n",
        "importances = xgb_model.feature_importances_\n",
        "\n",
        "# Put into DataFrame\n",
        "feat_imp = pd.DataFrame({\n",
        "    'Feature': X_train.columns,\n",
        "    'Importance': importances\n",
        "}).sort_values(by='Importance', ascending=False)\n",
        "\n",
        "print(\"\\nTop Features by Importance:\\n\", feat_imp)"
      ],
      "metadata": {
        "colab": {
          "base_uri": "https://localhost:8080/"
        },
        "id": "oNPLhyPguBrL",
        "outputId": "3d3e2bf9-5d88-4c86-fed3-61cdd8f9774e"
      },
      "execution_count": null,
      "outputs": [
        {
          "output_type": "stream",
          "name": "stdout",
          "text": [
            "\n",
            "Top Features by Importance:\n",
            "                Feature  Importance\n",
            "1                OrgId    0.111327\n",
            "30         CountryCode    0.108638\n",
            "4           DetectorId    0.092623\n",
            "6             Category    0.070119\n",
            "2           IncidentId    0.054117\n",
            "19         RegistryKey    0.053486\n",
            "7           EntityType    0.046987\n",
            "17          DeviceName    0.044868\n",
            "5           AlertTitle    0.043844\n",
            "3              AlertId    0.039571\n",
            "18    NetworkMessageId    0.035188\n",
            "33               Month    0.029261\n",
            "28            OSFamily    0.024754\n",
            "10              Sha256    0.023647\n",
            "15     AccountObjectId    0.020507\n",
            "9             DeviceId    0.020186\n",
            "8         EvidenceRole    0.018011\n",
            "29           OSVersion    0.017999\n",
            "14          AccountUpn    0.017806\n",
            "0                   Id    0.015478\n",
            "11           IpAddress    0.014217\n",
            "13          AccountSid    0.013438\n",
            "16         AccountName    0.013362\n",
            "26          FolderPath    0.013331\n",
            "25            FileName    0.013155\n",
            "12                 Url    0.010531\n",
            "23     ApplicationName    0.006549\n",
            "22       ApplicationId    0.006054\n",
            "27      ResourceIdName    0.005449\n",
            "20   RegistryValueName    0.004835\n",
            "32                City    0.003915\n",
            "21   RegistryValueData    0.002425\n",
            "24  OAuthApplicationId    0.002335\n",
            "31               State    0.001989\n"
          ]
        }
      ]
    },
    {
      "cell_type": "code",
      "source": [
        "# Cumulative importance threshold ---\n",
        "feat_imp_sorted = feat_imp.sort_values(by='Importance', ascending=False)\n",
        "feat_imp_sorted['Cumulative'] = feat_imp_sorted['Importance'].cumsum()\n",
        "\n",
        "# Choose top features covering 95% of importance\n",
        "top_features_cumulative = feat_imp_sorted[feat_imp_sorted['Cumulative'] <= 0.90]['Feature'].tolist()\n",
        "print(\"Top Features by Cumulative Importance (90%):\")\n",
        "print(top_features_cumulative)"
      ],
      "metadata": {
        "id": "DTLL-tDrs67M",
        "colab": {
          "base_uri": "https://localhost:8080/"
        },
        "outputId": "c6ebe987-ac38-43dd-e477-a8c402bb93a0"
      },
      "execution_count": null,
      "outputs": [
        {
          "output_type": "stream",
          "name": "stdout",
          "text": [
            "Top Features by Cumulative Importance (90%):\n",
            "['OrgId', 'CountryCode', 'DetectorId', 'Category', 'IncidentId', 'RegistryKey', 'EntityType', 'DeviceName', 'AlertTitle', 'AlertId', 'NetworkMessageId', 'Month', 'OSFamily', 'Sha256', 'AccountObjectId', 'DeviceId', 'EvidenceRole', 'OSVersion', 'AccountUpn', 'Id']\n"
          ]
        }
      ]
    },
    {
      "cell_type": "code",
      "source": [
        "import joblib\n",
        "\n",
        "# Save the selected features (example using absolute cutoff)\n",
        "joblib.dump(top_features_cumulative, 'selected_features_20.pkl')\n"
      ],
      "metadata": {
        "colab": {
          "base_uri": "https://localhost:8080/"
        },
        "id": "NPzYb9m4ZbE1",
        "outputId": "202c3de3-264e-43a0-ba53-cc48daf93b14"
      },
      "execution_count": null,
      "outputs": [
        {
          "output_type": "execute_result",
          "data": {
            "text/plain": [
              "['selected_features_20.pkl']"
            ]
          },
          "metadata": {},
          "execution_count": 7
        }
      ]
    },
    {
      "cell_type": "markdown",
      "source": [
        "Hyperparameter Tuning and CV with Selected Features"
      ],
      "metadata": {
        "id": "B5jUwhsjmddq"
      }
    },
    {
      "cell_type": "code",
      "source": [
        "import pandas as pd\n",
        "import joblib\n",
        "import numpy as np\n",
        "from sklearn.model_selection import train_test_split, RandomizedSearchCV\n",
        "from sklearn.metrics import classification_report, confusion_matrix, precision_score, recall_score, f1_score\n",
        "from xgboost import XGBClassifier\n",
        "\n",
        "# -------------------------\n",
        "# 1. Load dataset + selected features\n",
        "# -------------------------\n",
        "df = pd.read_csv(\"/content/drive/MyDrive/prepped_dataset.csv\")\n",
        "\n",
        "# Load selected features\n",
        "selected_features = joblib.load(\"/content/selected_features_20.pkl\")\n",
        "\n",
        "# Keep only selected features + target\n",
        "X = df[selected_features]\n",
        "y = df[\"IncidentGrade\"]\n",
        "\n",
        "# Train/validation split\n",
        "X_train, X_val, y_train, y_val = train_test_split(\n",
        "    X, y, test_size=0.3, stratify=y, random_state=42\n",
        ")\n",
        "\n",
        "# -------------------------\n",
        "# 2. Define base model\n",
        "# -------------------------\n",
        "xgb = XGBClassifier(\n",
        "    objective='multi:softmax',   # or 'multi:softprob' if you need probabilities\n",
        "    num_class=len(y_train.unique()),\n",
        "    tree_method='hist',          # efficient for large datasets\n",
        "    use_label_encoder=False,\n",
        "    eval_metric='mlogloss',\n",
        "    random_state=42\n",
        ")\n",
        "\n",
        "# Parameter grid\n",
        "param_dist = {\n",
        "    'n_estimators': [100, 300, 500],\n",
        "    'max_depth': [3, 5, 7],\n",
        "    'learning_rate': [0.01, 0.05, 0.1, 0.2],\n",
        "    'subsample': [0.6, 0.8, 1.0],\n",
        "    'colsample_bytree': [0.6, 0.8, 1.0],\n",
        "    'min_child_weight': [1, 3, 5]\n",
        "}\n",
        "\n",
        "# -------------------------\n",
        "# 3. Randomized Search\n",
        "# -------------------------\n",
        "random_search = RandomizedSearchCV(\n",
        "    estimator=xgb,\n",
        "    param_distributions=param_dist,\n",
        "    n_iter=15,\n",
        "    scoring='f1_weighted',\n",
        "    cv=3,\n",
        "    verbose=1,\n",
        "    n_jobs=-1,\n",
        "    random_state=42\n",
        ")\n",
        "\n",
        "random_search.fit(X_train, y_train)\n",
        "\n",
        "# -------------------------\n",
        "# 4. Evaluation\n",
        "# -------------------------\n",
        "print(\"Best Parameters:\", random_search.best_params_)\n",
        "print(\"Best CV Score:\", random_search.best_score_)\n",
        "\n",
        "# Predictions on validation set\n",
        "y_pred = random_search.best_estimator_.predict(X_val)\n",
        "\n",
        "# Confusion Matrix\n",
        "print(\"\\nConfusion Matrix:\\n\", confusion_matrix(y_val, y_pred))\n",
        "\n",
        "# Classification Report\n",
        "print(\"\\nClassification Report:\\n\", classification_report(y_val, y_pred))\n",
        "\n",
        "# Explicit Macro Scores\n",
        "precision_macro = precision_score(y_val, y_pred, average='macro')\n",
        "recall_macro = recall_score(y_val, y_pred, average='macro')\n",
        "f1_macro = f1_score(y_val, y_pred, average='macro')\n",
        "\n",
        "print(f\"\\nPrecision (Macro): {precision_macro:.4f}\")\n",
        "print(f\"Recall (Macro):    {recall_macro:.4f}\")\n",
        "print(f\"F1 Score (Macro):  {f1_macro:.4f}\")\n",
        "\n",
        "# -------------------------\n",
        "# 5. Save final model + features\n",
        "# -------------------------\n",
        "best_model = random_search.best_estimator_\n",
        "joblib.dump(best_model, \"xgb_best_model_selected.pkl\")\n",
        "print(\"✅ Model saved as xgb_best_model_selected.pkl\")\n",
        "\n",
        "joblib.dump(selected_features, \"selected_features.pkl\")\n",
        "print(\"✅ Selected features saved as selected_features.pkl\")"
      ],
      "metadata": {
        "colab": {
          "base_uri": "https://localhost:8080/"
        },
        "id": "IVgpqI9teOs0",
        "outputId": "d46e8ddf-8789-468a-ef3b-682f10076c0d"
      },
      "execution_count": null,
      "outputs": [
        {
          "output_type": "stream",
          "name": "stdout",
          "text": [
            "Fitting 3 folds for each of 15 candidates, totalling 45 fits\n"
          ]
        },
        {
          "output_type": "stream",
          "name": "stderr",
          "text": [
            "/usr/local/lib/python3.12/dist-packages/xgboost/training.py:183: UserWarning: [11:09:02] WARNING: /workspace/src/learner.cc:738: \n",
            "Parameters: { \"use_label_encoder\" } are not used.\n",
            "\n",
            "  bst.update(dtrain, iteration=i, fobj=obj)\n"
          ]
        },
        {
          "output_type": "stream",
          "name": "stdout",
          "text": [
            "Best Parameters: {'subsample': 0.8, 'n_estimators': 300, 'min_child_weight': 5, 'max_depth': 7, 'learning_rate': 0.2, 'colsample_bytree': 1.0}\n",
            "Best CV Score: 0.9487757689462942\n",
            "\n",
            "Confusion Matrix:\n",
            " [[1194726   17926   20594]\n",
            " [  36488  556205   16897]\n",
            " [  40625   13309  942880]]\n",
            "\n",
            "Classification Report:\n",
            "               precision    recall  f1-score   support\n",
            "\n",
            "           0       0.94      0.97      0.95   1233246\n",
            "           1       0.95      0.91      0.93    609590\n",
            "           2       0.96      0.95      0.95    996814\n",
            "\n",
            "    accuracy                           0.95   2839650\n",
            "   macro avg       0.95      0.94      0.95   2839650\n",
            "weighted avg       0.95      0.95      0.95   2839650\n",
            "\n",
            "\n",
            "Precision (Macro): 0.9493\n",
            "Recall (Macro):    0.9424\n",
            "F1 Score (Macro):  0.9456\n",
            "✅ Model saved as xgb_best_model_selected.pkl\n",
            "✅ Selected features saved as selected_features.pkl\n"
          ]
        }
      ]
    },
    {
      "cell_type": "code",
      "source": [
        "import pandas as pd\n",
        "test_df = pd.read_csv('/content/drive/MyDrive/prepped_test_set.csv')\n",
        "\n",
        "import joblib\n",
        "import json\n",
        "from sklearn.metrics import f1_score, precision_score, recall_score, confusion_matrix, classification_report\n",
        "\n",
        "XGB_model = joblib.load(\"/content/xgb_best_model_selected.pkl\")\n",
        "label_encoding = joblib.load(\"incidentgrade_label_encoder.pkl\")\n",
        "train_features = joblib.load(\"/content/selected_features_20.pkl\")\n",
        "\n",
        "\n",
        "# Split into X and y\n",
        "X_test = test_df.drop('IncidentGrade', axis=1)\n",
        "y_test = test_df['IncidentGrade']\n",
        "\n",
        "# Add missing columns in test set (with 0 or appropriate default)\n",
        "for col in train_features:\n",
        "    if col not in X_test.columns:\n",
        "        X_test[col] = 0   # or np.nan, depending on context\n",
        "\n",
        "# Drop any extra columns in test set not used in training\n",
        "X_test = X_test[train_features]\n",
        "\n",
        "# Predict\n",
        "y_pred = XGB_model.predict(X_test)\n",
        "\n",
        "# Confusion Matrix\n",
        "print(\"XGBoost - Test Confusion Matrix:\\n\", confusion_matrix(y_test, y_pred))\n",
        "\n",
        "# Classification Report\n",
        "print(\"\\nXGBoost - Test Classification Report:\\n\", classification_report(y_test, y_pred, target_names=label_encoding.classes_))\n",
        "\n",
        "# Macro F1\n",
        "macro_f1 = f1_score(y_test, y_pred, average='macro')\n",
        "\n",
        "# Weighted Precision & Recall\n",
        "precision = precision_score(y_test, y_pred, average='weighted')\n",
        "recall = recall_score(y_test, y_pred, average='weighted')\n",
        "\n",
        "print(f\"\\nXGBoost Final Test Evaluation:\")\n",
        "print(f\"Macro F1 Score: {macro_f1:.4f}\")\n",
        "print(f\"Precision: {precision:.4f}\")\n",
        "print(f\"Recall: {recall:.4f}\")"
      ],
      "metadata": {
        "id": "drQa0ZqZhZyk",
        "colab": {
          "base_uri": "https://localhost:8080/"
        },
        "outputId": "92731d80-7f03-4446-bef8-bc86c5911aaa"
      },
      "execution_count": null,
      "outputs": [
        {
          "output_type": "stream",
          "name": "stderr",
          "text": [
            "/usr/local/lib/python3.12/dist-packages/sklearn/base.py:380: InconsistentVersionWarning: Trying to unpickle estimator LabelEncoder from version 1.7.0 when using version 1.6.1. This might lead to breaking code or invalid results. Use at your own risk. For more info please refer to:\n",
            "https://scikit-learn.org/stable/model_persistence.html#security-maintainability-limitations\n",
            "  warnings.warn(\n"
          ]
        },
        {
          "output_type": "stream",
          "name": "stdout",
          "text": [
            "XGBoost - Test Confusion Matrix:\n",
            " [[1625102   76387   51451]\n",
            " [  97086  743082   62530]\n",
            " [  77712   31634 1383008]]\n",
            "\n",
            "XGBoost - Test Classification Report:\n",
            "                 precision    recall  f1-score   support\n",
            "\n",
            "BenignPositive       0.90      0.93      0.91   1752940\n",
            " FalsePositive       0.87      0.82      0.85    902698\n",
            "  TruePositive       0.92      0.93      0.93   1492354\n",
            "\n",
            "      accuracy                           0.90   4147992\n",
            "     macro avg       0.90      0.89      0.90   4147992\n",
            "  weighted avg       0.90      0.90      0.90   4147992\n",
            "\n",
            "\n",
            "XGBoost Final Test Evaluation:\n",
            "Macro F1 Score: 0.8958\n",
            "Precision: 0.9039\n",
            "Recall: 0.9043\n"
          ]
        }
      ]
    },
    {
      "cell_type": "markdown",
      "source": [
        "Regularization"
      ],
      "metadata": {
        "id": "gqqEQ-msogXK"
      }
    },
    {
      "cell_type": "code",
      "source": [
        "import pandas as pd\n",
        "import joblib\n",
        "from sklearn.model_selection import train_test_split, RandomizedSearchCV\n",
        "from sklearn.metrics import classification_report, confusion_matrix, precision_score, recall_score, f1_score\n",
        "from xgboost import XGBClassifier\n",
        "\n",
        "# -------------------------\n",
        "# 1. Load dataset + selected features\n",
        "# -------------------------\n",
        "df = pd.read_csv(\"/content/drive/MyDrive/prepped_dataset.csv\")\n",
        "\n",
        "# Load selected features\n",
        "selected_features = joblib.load(\"/content/selected_features_20.pkl\")\n",
        "\n",
        "# Keep only selected features + target\n",
        "X = df[selected_features]\n",
        "y = df[\"IncidentGrade\"]\n",
        "\n",
        "# Train/validation split\n",
        "X_train, X_val, y_train, y_val = train_test_split(\n",
        "    X, y, test_size=0.3, stratify=y, random_state=42\n",
        ")\n",
        "\n",
        "# -------------------------\n",
        "# 2. Define base model with REGULARIZATION\n",
        "# -------------------------\n",
        "xgb = XGBClassifier(\n",
        "    objective='multi:softmax',\n",
        "    num_class=len(y_train.unique()),\n",
        "    tree_method='hist',\n",
        "    use_label_encoder=False,\n",
        "    eval_metric='mlogloss',\n",
        "    random_state=42\n",
        ")\n",
        "\n",
        "# Parameter grid with regularization\n",
        "param_dist = {\n",
        "    'n_estimators': [200, 300, 500],\n",
        "    'max_depth': [3, 5, 7],\n",
        "    'learning_rate': [0.05, 0.1, 0.2],\n",
        "    'subsample': [0.7, 0.8, 1.0],\n",
        "    'colsample_bytree': [0.7, 0.8, 1.0],\n",
        "    'min_child_weight': [3, 5, 7],\n",
        "    'gamma': [0, 0.1, 0.2, 0.3],         # split regularization\n",
        "    'reg_alpha': [0, 0.01, 0.1, 1],      # L1\n",
        "    'reg_lambda': [1, 1.5, 2, 3]         # L2\n",
        "}\n",
        "\n",
        "# -------------------------\n",
        "# 3. Randomized Search\n",
        "# -------------------------\n",
        "random_search = RandomizedSearchCV(\n",
        "    estimator=xgb,\n",
        "    param_distributions=param_dist,\n",
        "    n_iter=20,\n",
        "    scoring='f1_weighted',\n",
        "    cv=3,\n",
        "    verbose=1,\n",
        "    n_jobs=-1,\n",
        "    random_state=42\n",
        ")\n",
        "\n",
        "random_search.fit(X_train, y_train)\n",
        "\n",
        "# -------------------------\n",
        "# 4. Evaluation on Validation Data\n",
        "# -------------------------\n",
        "print(\"Best Parameters:\", random_search.best_params_)\n",
        "print(\"Best CV Score:\", random_search.best_score_)\n",
        "\n",
        "# Predictions on validation set\n",
        "y_pred = random_search.best_estimator_.predict(X_val)\n",
        "\n",
        "# Confusion Matrix\n",
        "print(\"\\nConfusion Matrix:\\n\", confusion_matrix(y_val, y_pred))\n",
        "\n",
        "# Classification Report\n",
        "print(\"\\nClassification Report:\\n\", classification_report(y_val, y_pred))\n",
        "\n",
        "# Explicit Macro Scores\n",
        "precision_macro = precision_score(y_val, y_pred, average='macro')\n",
        "recall_macro = recall_score(y_val, y_pred, average='macro')\n",
        "f1_macro = f1_score(y_val, y_pred, average='macro')\n",
        "\n",
        "print(f\"\\nPrecision (Macro): {precision_macro:.4f}\")\n",
        "print(f\"Recall (Macro):    {recall_macro:.4f}\")\n",
        "print(f\"F1 Score (Macro):  {f1_macro:.4f}\")\n",
        "\n",
        "# -------------------------\n",
        "# 5. Save final model + features\n",
        "# -------------------------\n",
        "best_model = random_search.best_estimator_\n",
        "joblib.dump(best_model, \"xgb_best_model_regularized.pkl\")\n",
        "print(\"✅ Model saved as xgb_best_model_regularized.pkl\")\n",
        "\n",
        "joblib.dump(selected_features, \"selected_features.pkl\")\n",
        "print(\"✅ Selected features saved as selected_features.pkl\")\n"
      ],
      "metadata": {
        "id": "zlH60K_eoh6c",
        "colab": {
          "base_uri": "https://localhost:8080/"
        },
        "outputId": "72b32fd7-0fb9-4da6-fcd0-db3e43d97b3e"
      },
      "execution_count": null,
      "outputs": [
        {
          "output_type": "stream",
          "name": "stdout",
          "text": [
            "Fitting 3 folds for each of 20 candidates, totalling 60 fits\n"
          ]
        },
        {
          "output_type": "stream",
          "name": "stderr",
          "text": [
            "/usr/local/lib/python3.12/dist-packages/xgboost/training.py:183: UserWarning: [12:23:10] WARNING: /workspace/src/learner.cc:738: \n",
            "Parameters: { \"use_label_encoder\" } are not used.\n",
            "\n",
            "  bst.update(dtrain, iteration=i, fobj=obj)\n"
          ]
        },
        {
          "output_type": "stream",
          "name": "stdout",
          "text": [
            "Best Parameters: {'subsample': 0.8, 'reg_lambda': 1.5, 'reg_alpha': 0, 'n_estimators': 300, 'min_child_weight': 3, 'max_depth': 7, 'learning_rate': 0.2, 'gamma': 0.2, 'colsample_bytree': 0.7}\n",
            "Best CV Score: 0.9461729870191387\n",
            "\n",
            "Confusion Matrix:\n",
            " [[1193392   17789   22065]\n",
            " [  38730  552550   18310]\n",
            " [  42128   13564  941122]]\n",
            "\n",
            "Classification Report:\n",
            "               precision    recall  f1-score   support\n",
            "\n",
            "           0       0.94      0.97      0.95   1233246\n",
            "           1       0.95      0.91      0.93    609590\n",
            "           2       0.96      0.94      0.95    996814\n",
            "\n",
            "    accuracy                           0.95   2839650\n",
            "   macro avg       0.95      0.94      0.94   2839650\n",
            "weighted avg       0.95      0.95      0.95   2839650\n",
            "\n",
            "\n",
            "Precision (Macro): 0.9472\n",
            "Recall (Macro):    0.9394\n",
            "F1 Score (Macro):  0.9431\n",
            "✅ Model saved as xgb_best_model_regularized.pkl\n",
            "✅ Selected features saved as selected_features.pkl\n"
          ]
        }
      ]
    },
    {
      "cell_type": "code",
      "source": [
        "import pandas as pd\n",
        "test_df = pd.read_csv('/content/drive/MyDrive/prepped_test_set.csv')\n",
        "\n",
        "import joblib\n",
        "import json\n",
        "from sklearn.metrics import f1_score, precision_score, recall_score, confusion_matrix, classification_report\n",
        "\n",
        "XGB_model = joblib.load(\"/content/xgb_best_model_regularized.pkl\")\n",
        "label_encoding = joblib.load(\"incidentgrade_label_encoder.pkl\")\n",
        "train_features = joblib.load(\"/content/selected_features_20.pkl\")\n",
        "\n",
        "\n",
        "# Split into X and y\n",
        "X_test = test_df.drop('IncidentGrade', axis=1)\n",
        "y_test = test_df['IncidentGrade']\n",
        "\n",
        "# Add missing columns in test set (with 0 or appropriate default)\n",
        "for col in train_features:\n",
        "    if col not in X_test.columns:\n",
        "        X_test[col] = 0   # or np.nan, depending on context\n",
        "\n",
        "# Drop any extra columns in test set not used in training\n",
        "X_test = X_test[train_features]\n",
        "\n",
        "# Predict\n",
        "y_pred = XGB_model.predict(X_test)\n",
        "\n",
        "# Confusion Matrix\n",
        "print(\"XGBoost - Test Confusion Matrix:\\n\", confusion_matrix(y_test, y_pred))\n",
        "\n",
        "# Classification Report\n",
        "print(\"\\nXGBoost - Test Classification Report:\\n\", classification_report(y_test, y_pred, target_names=label_encoding.classes_))\n",
        "\n",
        "# Macro F1\n",
        "macro_f1 = f1_score(y_test, y_pred, average='macro')\n",
        "\n",
        "# Weighted Precision & Recall\n",
        "precision = precision_score(y_test, y_pred, average='weighted')\n",
        "recall = recall_score(y_test, y_pred, average='weighted')\n",
        "\n",
        "print(f\"\\nXGBoost Final Test Evaluation:\")\n",
        "print(f\"Macro F1 Score: {macro_f1:.4f}\")\n",
        "print(f\"Precision: {precision:.4f}\")\n",
        "print(f\"Recall: {recall:.4f}\")"
      ],
      "metadata": {
        "id": "AC3hq5lHoo78",
        "colab": {
          "base_uri": "https://localhost:8080/"
        },
        "outputId": "03c260b1-42b7-4f8e-b5ac-e3c787e1029a"
      },
      "execution_count": null,
      "outputs": [
        {
          "output_type": "stream",
          "name": "stderr",
          "text": [
            "/usr/local/lib/python3.12/dist-packages/sklearn/base.py:380: InconsistentVersionWarning: Trying to unpickle estimator LabelEncoder from version 1.7.0 when using version 1.6.1. This might lead to breaking code or invalid results. Use at your own risk. For more info please refer to:\n",
            "https://scikit-learn.org/stable/model_persistence.html#security-maintainability-limitations\n",
            "  warnings.warn(\n"
          ]
        },
        {
          "output_type": "stream",
          "name": "stdout",
          "text": [
            "XGBoost - Test Confusion Matrix:\n",
            " [[1629873   72736   50331]\n",
            " [  96467  755065   51166]\n",
            " [  84311   29054 1378989]]\n",
            "\n",
            "XGBoost - Test Classification Report:\n",
            "                 precision    recall  f1-score   support\n",
            "\n",
            "BenignPositive       0.90      0.93      0.91   1752940\n",
            " FalsePositive       0.88      0.84      0.86    902698\n",
            "  TruePositive       0.93      0.92      0.93   1492354\n",
            "\n",
            "      accuracy                           0.91   4147992\n",
            "     macro avg       0.90      0.90      0.90   4147992\n",
            "  weighted avg       0.91      0.91      0.91   4147992\n",
            "\n",
            "\n",
            "XGBoost Final Test Evaluation:\n",
            "Macro F1 Score: 0.9002\n",
            "Precision: 0.9073\n",
            "Recall: 0.9074\n"
          ]
        }
      ]
    },
    {
      "cell_type": "code",
      "source": [
        "import numpy as np\n",
        "import matplotlib.pyplot as plt\n",
        "import seaborn as sns\n",
        "\n",
        "# -------------------------\n",
        "# 6. Error Analysis\n",
        "# -------------------------\n",
        "y_pred = random_search.best_estimator_.predict(X_val)\n",
        "\n",
        "# Confusion Matrix Heatmap\n",
        "cm = confusion_matrix(y_val, y_pred)\n",
        "plt.figure(figsize=(6,5))\n",
        "sns.heatmap(cm, annot=True, fmt=\"d\", cmap=\"Blues\",\n",
        "            xticklabels=best_model.classes_,\n",
        "            yticklabels=best_model.classes_)\n",
        "plt.xlabel(\"Predicted\")\n",
        "plt.ylabel(\"Actual\")\n",
        "plt.title(\"Confusion Matrix - Validation Set\")\n",
        "plt.show()\n",
        "\n",
        "# Per-class metrics\n",
        "report_dict = classification_report(y_val, y_pred, output_dict=True)\n",
        "class_wise_report = pd.DataFrame(report_dict).transpose()\n",
        "print(\"\\nPer-class performance:\\n\", class_wise_report)\n",
        "\n",
        "# Misclassified samples\n",
        "misclassified_idx = np.where(y_val != y_pred)[0]\n",
        "print(f\"\\nTotal Misclassifications: {len(misclassified_idx)}\")\n",
        "print(\"Example misclassified indices (first 10):\", misclassified_idx[:10])\n",
        "\n",
        "# Distribution of misclassifications by actual class\n",
        "misclassified_actual = y_val.iloc[misclassified_idx].value_counts()\n",
        "print(\"\\nMisclassified counts by Actual Class:\\n\", misclassified_actual)\n",
        "\n",
        "# Distribution of misclassifications by predicted class\n",
        "misclassified_pred = pd.Series(y_pred[misclassified_idx]).value_counts()\n",
        "print(\"\\nMisclassified counts by Predicted Class:\\n\", misclassified_pred)"
      ],
      "metadata": {
        "colab": {
          "base_uri": "https://localhost:8080/",
          "height": 921
        },
        "id": "vb3xoFDWSFuJ",
        "outputId": "20397234-6eb3-4149-821e-f76ca47b831e"
      },
      "execution_count": null,
      "outputs": [
        {
          "output_type": "display_data",
          "data": {
            "text/plain": [
              "<Figure size 600x500 with 2 Axes>"
            ],
            "image/png": "[encoded data removed]"
          },
          "metadata": {}
        },
        {
          "output_type": "stream",
          "name": "stdout",
          "text": [
            "\n",
            "Per-class performance:\n",
            "               precision    recall  f1-score       support\n",
            "0              0.936545  0.967684  0.951860  1.233246e+06\n",
            "1              0.946304  0.906429  0.925938  6.095900e+05\n",
            "2              0.958864  0.944130  0.951440  9.968140e+05\n",
            "accuracy       0.946266  0.946266  0.946266  9.462659e-01\n",
            "macro avg      0.947238  0.939414  0.943079  2.839650e+06\n",
            "weighted avg   0.946475  0.946266  0.946148  2.839650e+06\n",
            "\n",
            "Total Misclassifications: 152586\n",
            "Example misclassified indices (first 10): [ 14  20  22  33  63  93 100 113 128 138]\n",
            "\n",
            "Misclassified counts by Actual Class:\n",
            " IncidentGrade\n",
            "1    57040\n",
            "2    55692\n",
            "0    39854\n",
            "Name: count, dtype: int64\n",
            "\n",
            "Misclassified counts by Predicted Class:\n",
            " 0    80858\n",
            "2    40375\n",
            "1    31353\n",
            "Name: count, dtype: int64\n"
          ]
        }
      ]
    },
    {
      "cell_type": "code",
      "source": [
        "import pandas as pd\n",
        "import numpy as np\n",
        "from sklearn.metrics import confusion_matrix, classification_report\n",
        "\n",
        "# -------------------------\n",
        "# Validation Error Analysis (no plots)\n",
        "# -------------------------\n",
        "y_pred = random_search.best_estimator_.predict(X_val)\n",
        "\n",
        "# Confusion Matrix\n",
        "cm = confusion_matrix(y_val, y_pred)\n",
        "print(\"\\nConfusion Matrix (Validation Set):\\n\", cm)\n",
        "\n",
        "# Classification Report as DataFrame\n",
        "report_dict = classification_report(y_val, y_pred, output_dict=True)\n",
        "class_wise_report = pd.DataFrame(report_dict).transpose()\n",
        "print(\"\\nPer-class Performance:\\n\", class_wise_report)\n",
        "\n",
        "# Misclassified samples\n",
        "misclassified_idx = np.where(y_val.values != y_pred)[0]\n",
        "print(f\"\\nTotal Misclassifications: {len(misclassified_idx)}\")\n",
        "print(\"Example misclassified indices (first 10):\", misclassified_idx[:10])\n",
        "\n",
        "# Distribution of misclassifications by Actual Class\n",
        "misclassified_actual = y_val.iloc[misclassified_idx].value_counts()\n",
        "print(\"\\nMisclassified counts by Actual Class:\\n\", misclassified_actual)\n",
        "\n",
        "# Distribution of misclassifications by Predicted Class\n",
        "misclassified_pred = pd.Series(y_pred[misclassified_idx]).value_counts()\n",
        "print(\"\\nMisclassified counts by Predicted Class:\\n\", misclassified_pred)\n"
      ],
      "metadata": {
        "colab": {
          "base_uri": "https://localhost:8080/"
        },
        "id": "pToVQZ99Sy5o",
        "outputId": "3b3cb9a6-6fe6-4502-c7f7-f0063a158d6e"
      },
      "execution_count": null,
      "outputs": [
        {
          "output_type": "stream",
          "name": "stdout",
          "text": [
            "\n",
            "Confusion Matrix (Validation Set):\n",
            " [[1193392   17789   22065]\n",
            " [  38730  552550   18310]\n",
            " [  42128   13564  941122]]\n",
            "\n",
            "Per-class Performance:\n",
            "               precision    recall  f1-score       support\n",
            "0              0.936545  0.967684  0.951860  1.233246e+06\n",
            "1              0.946304  0.906429  0.925938  6.095900e+05\n",
            "2              0.958864  0.944130  0.951440  9.968140e+05\n",
            "accuracy       0.946266  0.946266  0.946266  9.462659e-01\n",
            "macro avg      0.947238  0.939414  0.943079  2.839650e+06\n",
            "weighted avg   0.946475  0.946266  0.946148  2.839650e+06\n",
            "\n",
            "Total Misclassifications: 152586\n",
            "Example misclassified indices (first 10): [ 14  20  22  33  63  93 100 113 128 138]\n",
            "\n",
            "Misclassified counts by Actual Class:\n",
            " IncidentGrade\n",
            "1    57040\n",
            "2    55692\n",
            "0    39854\n",
            "Name: count, dtype: int64\n",
            "\n",
            "Misclassified counts by Predicted Class:\n",
            " 0    80858\n",
            "2    40375\n",
            "1    31353\n",
            "Name: count, dtype: int64\n"
          ]
        }
      ]
    },
    {
      "cell_type": "code",
      "source": [
        "import pandas as pd\n",
        "import numpy as np\n",
        "from sklearn.metrics import confusion_matrix, classification_report\n",
        "\n",
        "# -------------------------\n",
        "# Validation Error Analysis (no plots)\n",
        "# -------------------------\n",
        "y_pred = XGB_model.predict(X_test)\n",
        "\n",
        "# Confusion Matrix\n",
        "cm = confusion_matrix(y_test, y_pred)\n",
        "print(\"\\nConfusion Matrix (Test Set):\\n\", cm)\n",
        "\n",
        "# Classification Report as DataFrame\n",
        "report_dict = classification_report(y_test, y_pred, output_dict=True)\n",
        "class_wise_report = pd.DataFrame(report_dict).transpose()\n",
        "print(\"\\nPer-class Performance:\\n\", class_wise_report)\n",
        "\n",
        "# Misclassified samples\n",
        "misclassified_idx = np.where(y_test.values != y_pred)[0]\n",
        "print(f\"\\nTotal Misclassifications: {len(misclassified_idx)}\")\n",
        "print(\"Example misclassified indices (first 10):\", misclassified_idx[:10])\n",
        "\n",
        "# Distribution of misclassifications by Actual Class\n",
        "misclassified_actual = y_test.iloc[misclassified_idx].value_counts()\n",
        "print(\"\\nMisclassified counts by Actual Class:\\n\", misclassified_actual)\n",
        "\n",
        "# Distribution of misclassifications by Predicted Class\n",
        "misclassified_pred = pd.Series(y_pred[misclassified_idx]).value_counts()\n",
        "print(\"\\nMisclassified counts by Predicted Class:\\n\", misclassified_pred)\n"
      ],
      "metadata": {
        "colab": {
          "base_uri": "https://localhost:8080/"
        },
        "id": "pYiIvU1PTPT6",
        "outputId": "34bb2488-81a0-438a-881a-a52dba02c04c"
      },
      "execution_count": null,
      "outputs": [
        {
          "output_type": "stream",
          "name": "stdout",
          "text": [
            "\n",
            "Confusion Matrix (Test Set):\n",
            " [[1629873   72736   50331]\n",
            " [  96467  755065   51166]\n",
            " [  84311   29054 1378989]]\n",
            "\n",
            "Per-class Performance:\n",
            "               precision    recall  f1-score       support\n",
            "0              0.900159  0.929794  0.914736  1.752940e+06\n",
            "1              0.881205  0.836454  0.858246  9.026980e+05\n",
            "2              0.931443  0.924036  0.927725  1.492354e+06\n",
            "accuracy       0.907409  0.907409  0.907409  9.074094e-01\n",
            "macro avg      0.904269  0.896761  0.900236  4.147992e+06\n",
            "weighted avg   0.907289  0.907409  0.907116  4.147992e+06\n",
            "\n",
            "Total Misclassifications: 384065\n",
            "Example misclassified indices (first 10): [ 0  2 10 11 14 19 25 38 40 63]\n",
            "\n",
            "Misclassified counts by Actual Class:\n",
            " IncidentGrade\n",
            "1    147633\n",
            "0    123067\n",
            "2    113365\n",
            "Name: count, dtype: int64\n",
            "\n",
            "Misclassified counts by Predicted Class:\n",
            " 0    180778\n",
            "1    101790\n",
            "2    101497\n",
            "Name: count, dtype: int64\n"
          ]
        }
      ]
    }
  ]
}